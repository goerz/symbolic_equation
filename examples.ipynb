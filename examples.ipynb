{
 "cells": [
  {
   "cell_type": "markdown",
   "metadata": {},
   "source": [
    "# Examples for use of `Eq`"
   ]
  },
  {
   "cell_type": "code",
   "execution_count": 1,
   "metadata": {
    "ExecuteTime": {
     "end_time": "2020-06-27T21:37:37.987420Z",
     "start_time": "2020-06-27T21:37:37.967542Z"
    }
   },
   "outputs": [],
   "source": [
    "from symbolic_equation import Eq"
   ]
  },
  {
   "cell_type": "markdown",
   "metadata": {},
   "source": [
    "## Solving a simple system of equations"
   ]
  },
  {
   "cell_type": "markdown",
   "metadata": {},
   "source": [
    "https://pythonforundergradengineers.com/sympy-expressions-and-equations.html#Defining-Equations-in-Sympy"
   ]
  },
  {
   "cell_type": "code",
   "execution_count": 2,
   "metadata": {
    "ExecuteTime": {
     "end_time": "2020-06-27T21:37:38.647801Z",
     "start_time": "2020-06-27T21:37:37.992082Z"
    }
   },
   "outputs": [],
   "source": [
    "from sympy import symbols"
   ]
  },
  {
   "cell_type": "code",
   "execution_count": 3,
   "metadata": {
    "ExecuteTime": {
     "end_time": "2020-06-27T21:37:38.653452Z",
     "start_time": "2020-06-27T21:37:38.650407Z"
    }
   },
   "outputs": [],
   "source": [
    "x, y = symbols('x y')"
   ]
  },
  {
   "cell_type": "code",
   "execution_count": 4,
   "metadata": {
    "ExecuteTime": {
     "end_time": "2020-06-27T21:37:39.042635Z",
     "start_time": "2020-06-27T21:37:38.655344Z"
    }
   },
   "outputs": [
    {
     "data": {
      "text/latex": [
       "\\begin{equation}\n",
       "  2 x - y - 1 = 0\n",
       "\\tag{I}\\end{equation}\n"
      ],
      "text/plain": [
       "2*x - y - 1 = 0    ('I')"
      ]
     },
     "execution_count": 4,
     "metadata": {},
     "output_type": "execute_result"
    }
   ],
   "source": [
    "eq1 = Eq(2*x - y - 1, tag='I')\n",
    "eq1"
   ]
  },
  {
   "cell_type": "code",
   "execution_count": 5,
   "metadata": {
    "ExecuteTime": {
     "end_time": "2020-06-27T21:37:39.058564Z",
     "start_time": "2020-06-27T21:37:39.045978Z"
    }
   },
   "outputs": [
    {
     "data": {
      "text/latex": [
       "\\begin{equation}\n",
       "  x + y - 5 = 0\n",
       "\\tag{II}\\end{equation}\n"
      ],
      "text/plain": [
       "x + y - 5 = 0    ('II')"
      ]
     },
     "execution_count": 5,
     "metadata": {},
     "output_type": "execute_result"
    }
   ],
   "source": [
    "eq2 = Eq(x + y - 5, tag='II')\n",
    "eq2"
   ]
  },
  {
   "cell_type": "code",
   "execution_count": 6,
   "metadata": {
    "ExecuteTime": {
     "end_time": "2020-06-27T21:37:39.081102Z",
     "start_time": "2020-06-27T21:37:39.061172Z"
    }
   },
   "outputs": [
    {
     "data": {
      "text/latex": [
       "\\begin{align}\n",
       "  9 - 3 y &= 0\\tag{I - 2 II}\\\\\n",
       "  - 3 y &= -9\\\\\n",
       "  y &= 3\n",
       "\\tag{y}\\end{align}\n"
      ],
      "text/plain": [
       "9 - 3*y = 0     ('I - 2 II')\n",
       "   -3*y = -9\n",
       "      y = 3     ('y')"
      ]
     },
     "execution_count": 6,
     "metadata": {},
     "output_type": "execute_result"
    }
   ],
   "source": [
    "eq_y = (\n",
    "    (eq1 - 2 * eq2).tag(\"I - 2 II\")\n",
    "    .transform(lambda eq: eq - 9)\n",
    "    .transform(lambda eq: eq / (-3)).tag('y')\n",
    ")\n",
    "eq_y"
   ]
  },
  {
   "cell_type": "code",
   "execution_count": 7,
   "metadata": {
    "ExecuteTime": {
     "end_time": "2020-06-27T21:37:39.101551Z",
     "start_time": "2020-06-27T21:37:39.083484Z"
    }
   },
   "outputs": [
    {
     "data": {
      "text/latex": [
       "\\begin{align}\n",
       "  2 x - 4 &= 0\\tag{$y$ in I}\\\\\n",
       "  x - 2 &= 0\\\\\n",
       "  x &= 2\n",
       "\\tag{x}\\end{align}\n"
      ],
      "text/plain": [
       "2*x - 4 = 0    ('$y$ in I')\n",
       "  x - 2 = 0\n",
       "      x = 2    ('x')"
      ]
     },
     "execution_count": 7,
     "metadata": {},
     "output_type": "execute_result"
    }
   ],
   "source": [
    "eq_x = (\n",
    "    eq1.apply_to_lhs('subs', eq_y.as_dict).reset().tag(r'$y$ in I')\n",
    "    .transform(lambda eq: eq / 2)\n",
    "    .transform(lambda eq: eq + 2).tag('x')\n",
    ")\n",
    "eq_x"
   ]
  },
  {
   "cell_type": "markdown",
   "metadata": {},
   "source": [
    "Alternatively, we could let `sympy` solve the equation directly:"
   ]
  },
  {
   "cell_type": "code",
   "execution_count": 8,
   "metadata": {
    "ExecuteTime": {
     "end_time": "2020-06-27T21:37:39.112187Z",
     "start_time": "2020-06-27T21:37:39.106902Z"
    }
   },
   "outputs": [],
   "source": [
    "from sympy import solve"
   ]
  },
  {
   "cell_type": "code",
   "execution_count": 9,
   "metadata": {
    "ExecuteTime": {
     "end_time": "2020-06-27T21:37:39.160333Z",
     "start_time": "2020-06-27T21:37:39.116548Z"
    }
   },
   "outputs": [],
   "source": [
    "sol = solve((eq1, eq2),(x, y))"
   ]
  },
  {
   "cell_type": "code",
   "execution_count": 10,
   "metadata": {
    "ExecuteTime": {
     "end_time": "2020-06-27T21:37:39.172736Z",
     "start_time": "2020-06-27T21:37:39.165000Z"
    }
   },
   "outputs": [
    {
     "data": {
      "text/plain": [
       "{x: 2, y: 3}"
      ]
     },
     "execution_count": 10,
     "metadata": {},
     "output_type": "execute_result"
    }
   ],
   "source": [
    "sol"
   ]
  },
  {
   "cell_type": "markdown",
   "metadata": {},
   "source": [
    "## Proof of Euler's equation (to 6th order)"
   ]
  },
  {
   "cell_type": "markdown",
   "metadata": {},
   "source": [
    "https://austinrochford.com/posts/2014-02-05-eulers-formula-sympy.html"
   ]
  },
  {
   "cell_type": "code",
   "execution_count": 11,
   "metadata": {
    "ExecuteTime": {
     "end_time": "2020-06-27T21:37:39.184254Z",
     "start_time": "2020-06-27T21:37:39.180080Z"
    }
   },
   "outputs": [],
   "source": [
    "from sympy import exp, sin, cos, I"
   ]
  },
  {
   "cell_type": "code",
   "execution_count": 12,
   "metadata": {
    "ExecuteTime": {
     "end_time": "2020-06-27T21:37:39.191416Z",
     "start_time": "2020-06-27T21:37:39.186681Z"
    }
   },
   "outputs": [],
   "source": [
    "θ = symbols('theta', real=True)"
   ]
  },
  {
   "cell_type": "code",
   "execution_count": 13,
   "metadata": {
    "ExecuteTime": {
     "end_time": "2020-06-27T21:37:39.199039Z",
     "start_time": "2020-06-27T21:37:39.194796Z"
    }
   },
   "outputs": [],
   "source": [
    "n = 6"
   ]
  },
  {
   "cell_type": "code",
   "execution_count": 14,
   "metadata": {
    "ExecuteTime": {
     "end_time": "2020-06-27T21:37:39.663867Z",
     "start_time": "2020-06-27T21:37:39.201797Z"
    }
   },
   "outputs": [
    {
     "data": {
      "text/latex": [
       "\\begin{align}\n",
       "  e^{i \\theta} &= i \\sin{\\left(\\theta \\right)} + \\cos{\\left(\\theta \\right)}\\\\\n",
       "   &= 1 + i \\theta - \\frac{\\theta^{2}}{2} - \\frac{i \\theta^{3}}{6} + \\frac{\\theta^{4}}{24} + \\frac{i \\theta^{5}}{120} + O\\left(\\theta^{6}\\right)\\\\\n",
       "  1 + i \\theta - \\frac{\\theta^{2}}{2} - \\frac{i \\theta^{3}}{6} + \\frac{\\theta^{4}}{24} + \\frac{i \\theta^{5}}{120} + O\\left(\\theta^{6}\\right) &= 1 + i \\theta - \\frac{\\theta^{2}}{2} - \\frac{i \\theta^{3}}{6} + \\frac{\\theta^{4}}{24} + \\frac{i \\theta^{5}}{120} + O\\left(\\theta^{6}\\right)\n",
       "\\end{align}\n"
      ],
      "text/plain": [
       "                                                                        exp(I*theta) = I*sin(theta) + cos(theta)\n",
       "                                                                                     = 1 + I*theta - theta**2/2 - I*theta**3/6 + theta**4/24 + I*theta**5/120 + O(theta**6)\n",
       "1 + I*theta - theta**2/2 - I*theta**3/6 + theta**4/24 + I*theta**5/120 + O(theta**6) = 1 + I*theta - theta**2/2 - I*theta**3/6 + theta**4/24 + I*theta**5/120 + O(theta**6)"
      ]
     },
     "execution_count": 14,
     "metadata": {},
     "output_type": "execute_result"
    }
   ],
   "source": [
    "eq_euler = (\n",
    "    Eq(exp(I * θ), cos(θ) + I * sin(θ))\n",
    "    .apply('subs', {cos(θ): cos(θ).series(n=n)})\n",
    "    .apply('subs', {sin(θ): sin(θ).series(n=n)})\n",
    "    .apply_to_rhs('expand').amend(previous_lines=2)\n",
    "    .apply_to_lhs('series', n=n)\n",
    ")\n",
    "eq_euler"
   ]
  },
  {
   "cell_type": "code",
   "execution_count": 15,
   "metadata": {
    "ExecuteTime": {
     "end_time": "2020-06-27T21:37:39.686822Z",
     "start_time": "2020-06-27T21:37:39.666392Z"
    }
   },
   "outputs": [
    {
     "data": {
      "text/latex": [
       "$\\displaystyle O\\left(\\theta^{6}\\right)$"
      ],
      "text/plain": [
       "O(theta**6)"
      ]
     },
     "execution_count": 15,
     "metadata": {},
     "output_type": "execute_result"
    }
   ],
   "source": [
    "eq_euler.lhs - eq_euler.rhs"
   ]
  }
 ],
 "metadata": {
  "hide_input": false,
  "jupytext": {
   "encoding": "# -*- coding: utf-8 -*-"
  },
  "kernelspec": {
   "display_name": "Python 3",
   "language": "python",
   "name": "python3"
  },
  "language_info": {
   "codemirror_mode": {
    "name": "ipython",
    "version": 3
   },
   "file_extension": ".py",
   "mimetype": "text/x-python",
   "name": "python",
   "nbconvert_exporter": "python",
   "pygments_lexer": "ipython3",
   "version": "3.7.6"
  },
  "toc": {
   "base_numbering": 1,
   "nav_menu": {},
   "number_sections": true,
   "sideBar": true,
   "skip_h1_title": false,
   "title_cell": "Table of Contents",
   "title_sidebar": "Contents",
   "toc_cell": false,
   "toc_position": {},
   "toc_section_display": true,
   "toc_window_display": false
  },
  "varInspector": {
   "cols": {
    "lenName": 16,
    "lenType": 16,
    "lenVar": 40
   },
   "kernels_config": {
    "python": {
     "delete_cmd_postfix": "",
     "delete_cmd_prefix": "del ",
     "library": "var_list.py",
     "varRefreshCmd": "print(var_dic_list())"
    },
    "r": {
     "delete_cmd_postfix": ") ",
     "delete_cmd_prefix": "rm(",
     "library": "var_list.r",
     "varRefreshCmd": "cat(var_dic_list()) "
    }
   },
   "types_to_exclude": [
    "module",
    "function",
    "builtin_function_or_method",
    "instance",
    "_Feature"
   ],
   "window_display": false
  }
 },
 "nbformat": 4,
 "nbformat_minor": 2
}
